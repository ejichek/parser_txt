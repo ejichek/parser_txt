{
 "cells": [
  {
   "cell_type": "code",
   "execution_count": null,
   "id": "a576605f",
   "metadata": {},
   "outputs": [],
   "source": [
    "import os\n",
    "import pandas as pd"
   ]
  },
  {
   "cell_type": "code",
   "execution_count": null,
   "id": "8c512fec",
   "metadata": {},
   "outputs": [],
   "source": [
    "path_txt = 'C:/Users/19397737/Desktop/распознанные/'"
   ]
  },
  {
   "cell_type": "code",
   "execution_count": null,
   "id": "8c5ae6f1",
   "metadata": {},
   "outputs": [],
   "source": [
    "list_dir_txt = os.listdir(path_txt)\n",
    "list_dir_txt"
   ]
  },
  {
   "cell_type": "code",
   "execution_count": null,
   "id": "f1b4a86a",
   "metadata": {},
   "outputs": [],
   "source": [
    "list_kvartal = []\n",
    "\n",
    "inn = None\n",
    "dom = None\n",
    "plan_stoimost = None\n",
    "ustav_capital = None\n",
    "kvartal = None\n",
    "zaversh_20 = None\n",
    "zaversh_60 = None\n",
    "zaversh_100 = None\n",
    "izmen_proekt = None\n",
    "\n",
    "df = pd.DataFrame(columns = ['inn_застройщика', 'Дом', 'План_стоим', 'Уставной_кап',\n",
    "                             '20%_Реализации', '60%_Реализации', '100%_Реализации',\n",
    "                             'Измен_проект'])"
   ]
  },
  {
   "cell_type": "code",
   "execution_count": null,
   "id": "0aae4ffd",
   "metadata": {},
   "outputs": [],
   "source": [
    "for i in list_dir_txt:\n",
    "    with open(path_txt + i, 'r', encoding='utf-8') as f:\n",
    "        text = f.read()\n",
    "        \n",
    "    inn = i[0:10] # ИНН был записан в первых символах названия файла\n",
    "    \n",
    "    izmen_proekt = text[text.find('\\t\\n24.1') + 3 : text.find('КОПИЯ ЭЛЕКТРОННОГО ДОКУМЕНТА')]\n",
    "    izmen_proekt = izmen_proekt.replace('\\t', '|')\n",
    "    izmen_proekt = izmen_proekt.replace('\\n', '|')\n",
    "    \n",
    "    split_text = text.split('\\n')\n",
    "    \n",
    "    dom = split_text[2]  # информация о доме всегда была в 3-ей строчке\n",
    "    \n",
    "    for i1 in split_text: \n",
    "        if 'Планируемая стоимость строительства:' in i1:\n",
    "            plan_stoimost = i1[i1.find('Планируемая стоимость строительства:') + 37 : len(i1)].replace('\\t', '')\n",
    "        if 'Размер уставного капитала' in i1:\n",
    "            ustav_capital = i1[i1.find('Размер уставного капитала:') + 26 : len(i1)].replace('\\t', '') \n",
    "        if 'Квартал выполнения этапа строительсьва:' in i1:\n",
    "            kvartal = i1[i1.find('Квартал выполнения этапа строительсьва:') + 40 : len(i1)].replace('\\t', '') \n",
    "            list_kvartal.append(kvartal)\n",
    "\n",
    "    zaversh_20 = list_kvartal[0]\n",
    "    zaversh_60 = list_kvartal[1]\n",
    "    zaversh_100 = list_kvartal[2]\n",
    "    \n",
    "    df = df.append({'inn_застройщика':inn, 'Дом':dom, 'План_стоим':plan_stoimost,\n",
    "                    'Уставной_кап':ustav_capital,'20%_Реализации':zaversh_20,\n",
    "                    '60%_Реализации':zaversh_60 , '100%_Реализации':zaversh_100,\n",
    "                    'Измен_проект':izmen_proekt },\n",
    "                   ignore_index = True)\n",
    "    \n",
    "    list_kvartal = []\n",
    "\n",
    "    inn = None\n",
    "    dom = None\n",
    "    plan_stoimost = None\n",
    "    ustav_capital = None\n",
    "    kvartal = None\n",
    "    zaversh_20 = None\n",
    "    zaversh_60 = None\n",
    "    zaversh_100 = None\n",
    "    izmen_proekt = None\n"
   ]
  },
  {
   "cell_type": "code",
   "execution_count": 2,
   "id": "e4f65362",
   "metadata": {},
   "outputs": [
    {
     "data": {
      "text/plain": [
       "39"
      ]
     },
     "execution_count": 2,
     "metadata": {},
     "output_type": "execute_result"
    }
   ],
   "source": [
    "len('Квартал выполнения этапа строительсьва:')"
   ]
  },
  {
   "cell_type": "code",
   "execution_count": null,
   "id": "b30b9626",
   "metadata": {},
   "outputs": [],
   "source": [
    "df.head(5)"
   ]
  },
  {
   "cell_type": "code",
   "execution_count": null,
   "id": "e182967c",
   "metadata": {},
   "outputs": [],
   "source": [
    "df"
   ]
  },
  {
   "cell_type": "code",
   "execution_count": null,
   "id": "0f49f7f0",
   "metadata": {},
   "outputs": [],
   "source": [
    "df.to_csv('inn.txt', sep='|', encoding='utf-8') # в txt, тк csv и Excel жрет первый 0-ик в ИНН "
   ]
  }
 ],
 "metadata": {
  "kernelspec": {
   "display_name": "Python 3",
   "language": "python",
   "name": "python3"
  },
  "language_info": {
   "codemirror_mode": {
    "name": "ipython",
    "version": 3
   },
   "file_extension": ".py",
   "mimetype": "text/x-python",
   "name": "python",
   "nbconvert_exporter": "python",
   "pygments_lexer": "ipython3",
   "version": "3.8.8"
  }
 },
 "nbformat": 4,
 "nbformat_minor": 5
}
